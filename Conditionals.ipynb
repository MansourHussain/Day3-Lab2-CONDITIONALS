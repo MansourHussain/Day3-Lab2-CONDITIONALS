{
 "cells": [
  {
   "cell_type": "code",
   "execution_count": 8,
   "id": "c827f35c",
   "metadata": {},
   "outputs": [
    {
     "name": "stdout",
     "output_type": "stream",
     "text": [
      "I recommended it. It is good\n"
     ]
    }
   ],
   "source": [
    "movie = 'gone'\n",
    "rating = 3\n",
    "score = 72.65\n",
    "\n",
    "if rating >=4 and score> 80:\n",
    "    print('Highly recommended')\n",
    "    \n",
    "elif rating >=3 and score > 70:\n",
    "    print('I recommended it. It is good')\n",
    "    \n",
    "elif rating <=2 and score > 60:\n",
    "    print('You should check it out!')\n",
    "\n",
    "elif rating <=2 and score < 50:\n",
    "    print('Do not watch it. It is a waste of time')"
   ]
  },
  {
   "cell_type": "code",
   "execution_count": null,
   "id": "c9ec0143",
   "metadata": {},
   "outputs": [],
   "source": []
  }
 ],
 "metadata": {
  "kernelspec": {
   "display_name": "Python 3",
   "language": "python",
   "name": "python3"
  },
  "language_info": {
   "codemirror_mode": {
    "name": "ipython",
    "version": 3
   },
   "file_extension": ".py",
   "mimetype": "text/x-python",
   "name": "python",
   "nbconvert_exporter": "python",
   "pygments_lexer": "ipython3",
   "version": "3.9.6"
  }
 },
 "nbformat": 4,
 "nbformat_minor": 5
}
